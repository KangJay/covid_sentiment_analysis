{
 "cells": [
  {
   "cell_type": "markdown",
   "id": "neutral-channels",
   "metadata": {},
   "source": [
    "# Project Phase 1 Report\n",
    "Team 7: Lipsa J., Ji K., Yuanfeng L., Yu L."
   ]
  },
  {
   "cell_type": "markdown",
   "id": "representative-guinea",
   "metadata": {},
   "source": [
    "## Report format using QQQ\n",
    "\n",
    "1. Qualitative\n",
    "* Question, problem, hypothesis, claim, context, motivation\n",
    "* Definitions, data, methods to be used\n",
    "* Rationale, assumptions, biases\n",
    "\n",
    "2. Quantitative:\n",
    "* Data processing, analysis, visualization\n",
    "* Documented code and results\n",
    "* Summary visuals\n",
    "\n",
    "3. Qualitative:\n",
    "* Answer, update question/claim, summary, re-contextualization, story, * relate to domain knowledge\n",
    "* Uncertainty, limitations, caveats\n",
    "* New problems, next steps\n",
    "\n",
    "4. Repeat. QQQ-QQQ-QQQ-...\n",
    "* Break down a large problem into parts\n",
    "* Alternative approaches to a problem\n",
    "* Sequence of related pro"
   ]
  },
  {
   "cell_type": "markdown",
   "id": "limited-encounter",
   "metadata": {},
   "source": [
    "## References: \n",
    "* Good example of a Jupyter Notebook report: https://nbviewer.jupyter.org/gist/nealcaren/5105037\n",
    "(https://nbviewer.jupyter.org/gist/nealcaren/5105037)\n",
    "\n",
    "* QQQ: https://www.bava.stat.vt.edu/wp-content/uploads/2017/08/Developing-a-New-Interdisciplinary-\n",
    "Computational-Analytics-Undergraduate-Program-A-Qualitative-Quantitative-Qualitative-Approach.pdf\n",
    "(https://www.bava.stat.vt.edu/wp-content/uploads/2017/08/Developing-a-New-Interdisciplinary-\n",
    "Computational-Analytics-Undergraduate-Program-A-Qualitative-Quantitative-Qualitative-Approach.pdf)\n",
    "\n",
    "* Using visuals to support claims: https://www.cbre.com/research-and-reports/Scoring-Tech-Talent-in-North-\n",
    "America-2018 (https://www.cbre.com/research-and-reports/Scoring-Tech-Talent-in-North-America-2018)\n",
    "\n",
    "* Typical industry spam: https://www.seagate.com/files/www-content/our-story/trends/files/idc-seagate-\n",
    "dataage-whitepaper.pdf (https://www.seagate.com/files/www-content/our-story/trends/files/idc-seagate-\n",
    "dataage-whitepaper.pdf)"
   ]
  }
 ],
 "metadata": {
  "kernelspec": {
   "display_name": "Python 3",
   "language": "python",
   "name": "python3"
  },
  "language_info": {
   "codemirror_mode": {
    "name": "ipython",
    "version": 3
   },
   "file_extension": ".py",
   "mimetype": "text/x-python",
   "name": "python",
   "nbconvert_exporter": "python",
   "pygments_lexer": "ipython3",
   "version": "3.8.5"
  }
 },
 "nbformat": 4,
 "nbformat_minor": 5
}
